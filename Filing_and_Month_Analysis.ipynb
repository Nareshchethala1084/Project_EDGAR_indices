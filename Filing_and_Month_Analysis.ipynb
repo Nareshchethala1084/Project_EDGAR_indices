{
 "cells": [
  {
   "cell_type": "code",
   "execution_count": 2,
   "id": "b90ea432-0aee-44bd-88f1-30fec4337b7e",
   "metadata": {},
   "outputs": [],
   "source": [
    "import pandas as pd"
   ]
  },
  {
   "cell_type": "code",
   "execution_count": 3,
   "id": "bf2160cf-6697-49dd-b61a-19e4d03f622a",
   "metadata": {
    "collapsed": true,
    "jupyter": {
     "outputs_hidden": true
    }
   },
   "outputs": [
    {
     "name": "stdout",
     "output_type": "stream",
     "text": [
      "Requirement already satisfied: matplotlib in /opt/homebrew/Cellar/jupyterlab/4.1.6_1/libexec/lib/python3.12/site-packages (3.8.4)\n",
      "Requirement already satisfied: contourpy>=1.0.1 in /opt/homebrew/Cellar/jupyterlab/4.1.6_1/libexec/lib/python3.12/site-packages (from matplotlib) (1.2.1)\n",
      "Requirement already satisfied: cycler>=0.10 in /opt/homebrew/Cellar/jupyterlab/4.1.6_1/libexec/lib/python3.12/site-packages (from matplotlib) (0.12.1)\n",
      "Requirement already satisfied: fonttools>=4.22.0 in /opt/homebrew/Cellar/jupyterlab/4.1.6_1/libexec/lib/python3.12/site-packages (from matplotlib) (4.51.0)\n",
      "Requirement already satisfied: kiwisolver>=1.3.1 in /opt/homebrew/Cellar/jupyterlab/4.1.6_1/libexec/lib/python3.12/site-packages (from matplotlib) (1.4.5)\n",
      "Requirement already satisfied: numpy>=1.21 in /opt/homebrew/Cellar/jupyterlab/4.1.6_1/libexec/lib/python3.12/site-packages (from matplotlib) (1.26.4)\n",
      "Requirement already satisfied: packaging>=20.0 in /opt/homebrew/Cellar/jupyterlab/4.1.6_1/libexec/lib/python3.12/site-packages (from matplotlib) (24.0)\n",
      "Requirement already satisfied: pillow>=8 in /opt/homebrew/Cellar/jupyterlab/4.1.6_1/libexec/lib/python3.12/site-packages (from matplotlib) (10.3.0)\n",
      "Requirement already satisfied: pyparsing>=2.3.1 in /opt/homebrew/Cellar/jupyterlab/4.1.6_1/libexec/lib/python3.12/site-packages (from matplotlib) (3.1.2)\n",
      "Requirement already satisfied: python-dateutil>=2.7 in /opt/homebrew/Cellar/jupyterlab/4.1.6_1/libexec/lib/python3.12/site-packages (from matplotlib) (2.9.0.post0)\n",
      "Requirement already satisfied: six>=1.5 in /opt/homebrew/Cellar/jupyterlab/4.1.6_1/libexec/lib/python3.12/site-packages (from python-dateutil>=2.7->matplotlib) (1.16.0)\n",
      "Note: you may need to restart the kernel to use updated packages.\n"
     ]
    }
   ],
   "source": [
    "pip install matplotlib"
   ]
  },
  {
   "cell_type": "code",
   "execution_count": 25,
   "id": "a2afbaf9-248a-473d-a669-e895af923d96",
   "metadata": {},
   "outputs": [
    {
     "name": "stdin",
     "output_type": "stream",
     "text": [
      "Path/to/file.csv: /Users/nareshchethala/Desktop/Project/Project_Dataframes/complete_edgar_data.csv\n"
     ]
    },
    {
     "name": "stderr",
     "output_type": "stream",
     "text": [
      "/var/folders/kk/9wmt5z851yxcb3jnsdggq1lw0000gn/T/ipykernel_24797/1235630476.py:5: DtypeWarning: Columns (2) have mixed types. Specify dtype option on import or set low_memory=False.\n",
      "  df = pd.read_csv(file_path)\n"
     ]
    },
    {
     "data": {
      "text/html": [
       "<div>\n",
       "<style scoped>\n",
       "    .dataframe tbody tr th:only-of-type {\n",
       "        vertical-align: middle;\n",
       "    }\n",
       "\n",
       "    .dataframe tbody tr th {\n",
       "        vertical-align: top;\n",
       "    }\n",
       "\n",
       "    .dataframe thead th {\n",
       "        text-align: right;\n",
       "    }\n",
       "</style>\n",
       "<table border=\"1\" class=\"dataframe\">\n",
       "  <thead>\n",
       "    <tr style=\"text-align: right;\">\n",
       "      <th></th>\n",
       "      <th>Company Name</th>\n",
       "      <th>Form Type</th>\n",
       "      <th>CIK</th>\n",
       "      <th>Date Filed</th>\n",
       "      <th>Filename</th>\n",
       "    </tr>\n",
       "  </thead>\n",
       "  <tbody>\n",
       "    <tr>\n",
       "      <th>0</th>\n",
       "      <td>----------------------------------------------...</td>\n",
       "      <td>------------</td>\n",
       "      <td>------------</td>\n",
       "      <td>------------</td>\n",
       "      <td>-------------------------------------------</td>\n",
       "    </tr>\n",
       "    <tr>\n",
       "      <th>1</th>\n",
       "      <td>1 800 FLOWERS COM INC</td>\n",
       "      <td>10-K</td>\n",
       "      <td>1084869</td>\n",
       "      <td>2020-09-11</td>\n",
       "      <td>edgar/data/1084869/0001437749-20-019622.txt</td>\n",
       "    </tr>\n",
       "    <tr>\n",
       "      <th>2</th>\n",
       "      <td>1 800 FLOWERS COM INC</td>\n",
       "      <td>3</td>\n",
       "      <td>1084869</td>\n",
       "      <td>2020-07-02</td>\n",
       "      <td>edgar/data/1084869/0001437749-20-014500.txt</td>\n",
       "    </tr>\n",
       "    <tr>\n",
       "      <th>3</th>\n",
       "      <td>1 800 FLOWERS COM INC</td>\n",
       "      <td>4</td>\n",
       "      <td>1084869</td>\n",
       "      <td>2020-09-02</td>\n",
       "      <td>edgar/data/1084869/0001437749-20-019189.txt</td>\n",
       "    </tr>\n",
       "    <tr>\n",
       "      <th>4</th>\n",
       "      <td>1 800 FLOWERS COM INC</td>\n",
       "      <td>4</td>\n",
       "      <td>1084869</td>\n",
       "      <td>2020-09-02</td>\n",
       "      <td>edgar/data/1084869/0001437749-20-019193.txt</td>\n",
       "    </tr>\n",
       "  </tbody>\n",
       "</table>\n",
       "</div>"
      ],
      "text/plain": [
       "                                        Company Name     Form Type  \\\n",
       "0  ----------------------------------------------...  ------------   \n",
       "1                              1 800 FLOWERS COM INC          10-K   \n",
       "2                              1 800 FLOWERS COM INC             3   \n",
       "3                              1 800 FLOWERS COM INC             4   \n",
       "4                              1 800 FLOWERS COM INC             4   \n",
       "\n",
       "            CIK    Date Filed                                     Filename  \n",
       "0  ------------  ------------  -------------------------------------------  \n",
       "1       1084869    2020-09-11  edgar/data/1084869/0001437749-20-019622.txt  \n",
       "2       1084869    2020-07-02  edgar/data/1084869/0001437749-20-014500.txt  \n",
       "3       1084869    2020-09-02  edgar/data/1084869/0001437749-20-019189.txt  \n",
       "4       1084869    2020-09-02  edgar/data/1084869/0001437749-20-019193.txt  "
      ]
     },
     "execution_count": 25,
     "metadata": {},
     "output_type": "execute_result"
    }
   ],
   "source": [
    "import pandas as pd\n",
    "\n",
    "file_path = input('Path/to/file.csv:')\n",
    "\n",
    "df = pd.read_csv(file_path)\n",
    "\n",
    "df.head()"
   ]
  },
  {
   "cell_type": "code",
   "execution_count": 26,
   "id": "48fb99ff-2e2f-4c14-a9a1-f6daeb43fdb6",
   "metadata": {},
   "outputs": [
    {
     "name": "stdout",
     "output_type": "stream",
     "text": [
      "                   Company Name Form Type      CIK  Date Filed  \\\n",
      "1         1 800 FLOWERS COM INC      10-K  1084869  2020-09-11   \n",
      "2         1 800 FLOWERS COM INC         3  1084869  2020-07-02   \n",
      "3         1 800 FLOWERS COM INC         4  1084869  2020-09-02   \n",
      "4         1 800 FLOWERS COM INC         4  1084869  2020-09-02   \n",
      "5         1 800 FLOWERS COM INC         4  1084869  2020-09-02   \n",
      "...                         ...       ...      ...         ...   \n",
      "23368908             ZYMETX INC         4   921439  2001-12-12   \n",
      "23368909             ZYMETX INC         4   921439  2001-12-12   \n",
      "23368910             ZYMETX INC   NT 10-Q   921439  2001-11-14   \n",
      "23368911             ZYMETX INC      SB-2   921439  2001-12-28   \n",
      "23368912       ZYMOGENETICS INC     S-1/A  1129425  2001-11-02   \n",
      "\n",
      "                                             Filename  \n",
      "1         edgar/data/1084869/0001437749-20-019622.txt  \n",
      "2         edgar/data/1084869/0001437749-20-014500.txt  \n",
      "3         edgar/data/1084869/0001437749-20-019189.txt  \n",
      "4         edgar/data/1084869/0001437749-20-019193.txt  \n",
      "5         edgar/data/1084869/0001437749-20-019199.txt  \n",
      "...                                               ...  \n",
      "23368908   edgar/data/921439/0000921439-01-500022.txt  \n",
      "23368909   edgar/data/921439/0000921439-01-500023.txt  \n",
      "23368910   edgar/data/921439/0000950134-01-508636.txt  \n",
      "23368911   edgar/data/921439/0001125282-01-503112.txt  \n",
      "23368912  edgar/data/1129425/0001032210-01-501267.txt  \n",
      "\n",
      "[23368795 rows x 5 columns]\n"
     ]
    }
   ],
   "source": [
    "#Data Cleaning to remove filings with no dates\n",
    "import pandas as pd\n",
    "\n",
    "# Remove rows where 'Date Filed' contains '------------'\n",
    "df = df[df['Date Filed'] != '------------']\n",
    "\n",
    "# Now df should only contain valid dates\n",
    "print(df)"
   ]
  },
  {
   "cell_type": "code",
   "execution_count": 27,
   "id": "a54e6e90-0e7a-42b3-a91e-f7dd05f35f7e",
   "metadata": {},
   "outputs": [
    {
     "data": {
      "text/html": [
       "<div>\n",
       "<style scoped>\n",
       "    .dataframe tbody tr th:only-of-type {\n",
       "        vertical-align: middle;\n",
       "    }\n",
       "\n",
       "    .dataframe tbody tr th {\n",
       "        vertical-align: top;\n",
       "    }\n",
       "\n",
       "    .dataframe thead th {\n",
       "        text-align: right;\n",
       "    }\n",
       "</style>\n",
       "<table border=\"1\" class=\"dataframe\">\n",
       "  <thead>\n",
       "    <tr style=\"text-align: right;\">\n",
       "      <th></th>\n",
       "      <th>Company Name</th>\n",
       "      <th>Form Type</th>\n",
       "      <th>CIK</th>\n",
       "      <th>Date Filed</th>\n",
       "      <th>Filename</th>\n",
       "      <th>Month</th>\n",
       "      <th>Year</th>\n",
       "    </tr>\n",
       "  </thead>\n",
       "  <tbody>\n",
       "    <tr>\n",
       "      <th>1</th>\n",
       "      <td>1 800 FLOWERS COM INC</td>\n",
       "      <td>10-K</td>\n",
       "      <td>1084869</td>\n",
       "      <td>2020-09-11</td>\n",
       "      <td>edgar/data/1084869/0001437749-20-019622.txt</td>\n",
       "      <td>9</td>\n",
       "      <td>2020</td>\n",
       "    </tr>\n",
       "    <tr>\n",
       "      <th>2</th>\n",
       "      <td>1 800 FLOWERS COM INC</td>\n",
       "      <td>3</td>\n",
       "      <td>1084869</td>\n",
       "      <td>2020-07-02</td>\n",
       "      <td>edgar/data/1084869/0001437749-20-014500.txt</td>\n",
       "      <td>7</td>\n",
       "      <td>2020</td>\n",
       "    </tr>\n",
       "    <tr>\n",
       "      <th>3</th>\n",
       "      <td>1 800 FLOWERS COM INC</td>\n",
       "      <td>4</td>\n",
       "      <td>1084869</td>\n",
       "      <td>2020-09-02</td>\n",
       "      <td>edgar/data/1084869/0001437749-20-019189.txt</td>\n",
       "      <td>9</td>\n",
       "      <td>2020</td>\n",
       "    </tr>\n",
       "    <tr>\n",
       "      <th>4</th>\n",
       "      <td>1 800 FLOWERS COM INC</td>\n",
       "      <td>4</td>\n",
       "      <td>1084869</td>\n",
       "      <td>2020-09-02</td>\n",
       "      <td>edgar/data/1084869/0001437749-20-019193.txt</td>\n",
       "      <td>9</td>\n",
       "      <td>2020</td>\n",
       "    </tr>\n",
       "    <tr>\n",
       "      <th>5</th>\n",
       "      <td>1 800 FLOWERS COM INC</td>\n",
       "      <td>4</td>\n",
       "      <td>1084869</td>\n",
       "      <td>2020-09-02</td>\n",
       "      <td>edgar/data/1084869/0001437749-20-019199.txt</td>\n",
       "      <td>9</td>\n",
       "      <td>2020</td>\n",
       "    </tr>\n",
       "  </tbody>\n",
       "</table>\n",
       "</div>"
      ],
      "text/plain": [
       "            Company Name Form Type      CIK Date Filed  \\\n",
       "1  1 800 FLOWERS COM INC      10-K  1084869 2020-09-11   \n",
       "2  1 800 FLOWERS COM INC         3  1084869 2020-07-02   \n",
       "3  1 800 FLOWERS COM INC         4  1084869 2020-09-02   \n",
       "4  1 800 FLOWERS COM INC         4  1084869 2020-09-02   \n",
       "5  1 800 FLOWERS COM INC         4  1084869 2020-09-02   \n",
       "\n",
       "                                      Filename  Month  Year  \n",
       "1  edgar/data/1084869/0001437749-20-019622.txt      9  2020  \n",
       "2  edgar/data/1084869/0001437749-20-014500.txt      7  2020  \n",
       "3  edgar/data/1084869/0001437749-20-019189.txt      9  2020  \n",
       "4  edgar/data/1084869/0001437749-20-019193.txt      9  2020  \n",
       "5  edgar/data/1084869/0001437749-20-019199.txt      9  2020  "
      ]
     },
     "execution_count": 27,
     "metadata": {},
     "output_type": "execute_result"
    }
   ],
   "source": [
    "# Convert 'Date Filed' to datetime if it's not already\n",
    "df['Date Filed'] = pd.to_datetime(df['Date Filed'])\n",
    "\n",
    "# Extract month and year from 'Date Filed'\n",
    "df['Month'] = df['Date Filed'].dt.month\n",
    "df['Year'] = df['Date Filed'].dt.year\n",
    "df.head()"
   ]
  },
  {
   "cell_type": "code",
   "execution_count": 38,
   "id": "91ddf48b-d611-4678-a80e-f373d299d03c",
   "metadata": {},
   "outputs": [
    {
     "data": {
      "text/html": [
       "<div>\n",
       "<style scoped>\n",
       "    .dataframe tbody tr th:only-of-type {\n",
       "        vertical-align: middle;\n",
       "    }\n",
       "\n",
       "    .dataframe tbody tr th {\n",
       "        vertical-align: top;\n",
       "    }\n",
       "\n",
       "    .dataframe thead th {\n",
       "        text-align: right;\n",
       "    }\n",
       "</style>\n",
       "<table border=\"1\" class=\"dataframe\">\n",
       "  <thead>\n",
       "    <tr style=\"text-align: right;\">\n",
       "      <th></th>\n",
       "      <th>Company Name</th>\n",
       "      <th>Form Type</th>\n",
       "      <th>CIK</th>\n",
       "      <th>Date Filed</th>\n",
       "      <th>Filename</th>\n",
       "      <th>Month</th>\n",
       "      <th>Year</th>\n",
       "      <th>Month_Name</th>\n",
       "    </tr>\n",
       "  </thead>\n",
       "  <tbody>\n",
       "    <tr>\n",
       "      <th>1</th>\n",
       "      <td>1 800 FLOWERS COM INC</td>\n",
       "      <td>10-K</td>\n",
       "      <td>1084869</td>\n",
       "      <td>2020-09-11</td>\n",
       "      <td>edgar/data/1084869/0001437749-20-019622.txt</td>\n",
       "      <td>9</td>\n",
       "      <td>2020</td>\n",
       "      <td>Sept</td>\n",
       "    </tr>\n",
       "    <tr>\n",
       "      <th>2</th>\n",
       "      <td>1 800 FLOWERS COM INC</td>\n",
       "      <td>3</td>\n",
       "      <td>1084869</td>\n",
       "      <td>2020-07-02</td>\n",
       "      <td>edgar/data/1084869/0001437749-20-014500.txt</td>\n",
       "      <td>7</td>\n",
       "      <td>2020</td>\n",
       "      <td>Jul</td>\n",
       "    </tr>\n",
       "    <tr>\n",
       "      <th>3</th>\n",
       "      <td>1 800 FLOWERS COM INC</td>\n",
       "      <td>4</td>\n",
       "      <td>1084869</td>\n",
       "      <td>2020-09-02</td>\n",
       "      <td>edgar/data/1084869/0001437749-20-019189.txt</td>\n",
       "      <td>9</td>\n",
       "      <td>2020</td>\n",
       "      <td>Sept</td>\n",
       "    </tr>\n",
       "    <tr>\n",
       "      <th>4</th>\n",
       "      <td>1 800 FLOWERS COM INC</td>\n",
       "      <td>4</td>\n",
       "      <td>1084869</td>\n",
       "      <td>2020-09-02</td>\n",
       "      <td>edgar/data/1084869/0001437749-20-019193.txt</td>\n",
       "      <td>9</td>\n",
       "      <td>2020</td>\n",
       "      <td>Sept</td>\n",
       "    </tr>\n",
       "    <tr>\n",
       "      <th>5</th>\n",
       "      <td>1 800 FLOWERS COM INC</td>\n",
       "      <td>4</td>\n",
       "      <td>1084869</td>\n",
       "      <td>2020-09-02</td>\n",
       "      <td>edgar/data/1084869/0001437749-20-019199.txt</td>\n",
       "      <td>9</td>\n",
       "      <td>2020</td>\n",
       "      <td>Sept</td>\n",
       "    </tr>\n",
       "  </tbody>\n",
       "</table>\n",
       "</div>"
      ],
      "text/plain": [
       "            Company Name Form Type      CIK Date Filed  \\\n",
       "1  1 800 FLOWERS COM INC      10-K  1084869 2020-09-11   \n",
       "2  1 800 FLOWERS COM INC         3  1084869 2020-07-02   \n",
       "3  1 800 FLOWERS COM INC         4  1084869 2020-09-02   \n",
       "4  1 800 FLOWERS COM INC         4  1084869 2020-09-02   \n",
       "5  1 800 FLOWERS COM INC         4  1084869 2020-09-02   \n",
       "\n",
       "                                      Filename  Month  Year Month_Name  \n",
       "1  edgar/data/1084869/0001437749-20-019622.txt      9  2020       Sept  \n",
       "2  edgar/data/1084869/0001437749-20-014500.txt      7  2020        Jul  \n",
       "3  edgar/data/1084869/0001437749-20-019189.txt      9  2020       Sept  \n",
       "4  edgar/data/1084869/0001437749-20-019193.txt      9  2020       Sept  \n",
       "5  edgar/data/1084869/0001437749-20-019199.txt      9  2020       Sept  "
      ]
     },
     "execution_count": 38,
     "metadata": {},
     "output_type": "execute_result"
    }
   ],
   "source": [
    "#Creating a dictionary for month names and mapping them to create a new column\n",
    "month_names = {1:'Jan',2:'Feb',3:'Mar',4:'Apr',5:'May',6:'Jun',7:'Jul',8:'Aug',9:'Sept',10:'Oct',11:'Nov',12:'Dec'}\n",
    "df['Month_Name'] = df['Month'].map(month_names)\n",
    "df.head()"
   ]
  },
  {
   "cell_type": "code",
   "execution_count": 7,
   "id": "37c3cd2b-96fa-49b2-b531-3ae4e96469d8",
   "metadata": {},
   "outputs": [
    {
     "data": {
      "text/plain": [
       "count     23368913\n",
       "unique         724\n",
       "top              4\n",
       "freq       8516229\n",
       "Name: Form Type, dtype: object"
      ]
     },
     "execution_count": 7,
     "metadata": {},
     "output_type": "execute_result"
    }
   ],
   "source": [
    "#getting summary of each column\n",
    "df['Form Type'].describe()"
   ]
  },
  {
   "cell_type": "code",
   "execution_count": 39,
   "id": "aa2c9c55-b7b5-4fd3-a1a4-e05821467b63",
   "metadata": {},
   "outputs": [
    {
     "data": {
      "image/png": "[encoded data removed]",
      "text/plain": [
       "<Figure size 1000x600 with 1 Axes>"
      ]
     },
     "metadata": {},
     "output_type": "display_data"
    }
   ],
   "source": [
    "# Count filings per month\n",
    "monthly_filings = df.groupby('Month_Name').size()\n",
    "\n",
    "# Sort counts in ascending order\n",
    "monthly_filings_sorted = monthly_filings.sort_values()\n",
    "\n",
    "# Plotting the results\n",
    "plt.figure(figsize=(10, 6))\n",
    "monthly_filings_sorted.plot(kind='bar')\n",
    "plt.title('Number of Filings Per Month')\n",
    "plt.xlabel('Month')\n",
    "plt.ylabel('Number of Filings')\n",
    "plt.show()"
   ]
  },
  {
   "cell_type": "code",
   "execution_count": 40,
   "id": "cd4c340b-19a2-4feb-a2ff-3bf42bc03736",
   "metadata": {},
   "outputs": [
    {
     "name": "stdin",
     "output_type": "stream",
     "text": [
      "Enter the form type you are interested in (e.g., 10-K, 10-Q):  4\n"
     ]
    },
    {
     "name": "stdout",
     "output_type": "stream",
     "text": [
      "The month with the most filings for 4 is: Feb\n"
     ]
    }
   ],
   "source": [
    "import pandas as pd\n",
    "\n",
    "# User input for form type\n",
    "user_form_type = input(\"Enter the form type you are interested in (e.g., 10-K, 10-Q): \")\n",
    "\n",
    "# Filter DataFrame for the specific form type\n",
    "filtered_df = df[df['Form Type'] == user_form_type]\n",
    "\n",
    "if not filtered_df.empty:\n",
    "    # Function to find the month with the most filings\n",
    "    most_frequent_month = filtered_df['Month_Name'].value_counts().idxmax() \n",
    "    #idmax is used to get the first one in the list based on index i.e., Month_Name\n",
    "\n",
    "    print(f\"The month with the most filings for {user_form_type} is: {most_frequent_month}\")\n",
    "else:\n",
    "    print(f\"No filings found for form type '{user_form_type}'.\")"
   ]
  },
  {
   "cell_type": "code",
   "execution_count": 42,
   "id": "2b1291b6-07e9-48b4-b26b-d4ce28f41760",
   "metadata": {},
   "outputs": [
    {
     "name": "stdin",
     "output_type": "stream",
     "text": [
      "Enter the form type you are interested in (e.g., 10-K, 10-Q):  4\n"
     ]
    },
    {
     "data": {
      "image/png": "[encoded data removed]",
      "text/plain": [
       "<Figure size 1200x600 with 1 Axes>"
      ]
     },
     "metadata": {},
     "output_type": "display_data"
    }
   ],
   "source": [
    "import pandas as pd\n",
    "import matplotlib.pyplot as plt\n",
    "\n",
    "# User input for form type\n",
    "user_form_type = input(\"Enter the form type you are interested in (e.g., 10-K, 10-Q): \")\n",
    "\n",
    "# Filter DataFrame for the specific form type\n",
    "filtered_df = df[df['Form Type'] == user_form_type]\n",
    "\n",
    "if not filtered_df.empty:\n",
    "    # Count the number of filings per month\n",
    "    filings_per_month = filtered_df.groupby('Month_Name').size()\n",
    "\n",
    "    # Plotting the results\n",
    "    plt.figure(figsize=(12, 6))\n",
    "    filings_per_month.plot(kind='bar', color='blue')\n",
    "    plt.title(f'Number of Filings Per Month for {user_form_type}')\n",
    "    plt.xlabel('Month_Name')\n",
    "    plt.ylabel('Number of Filings')\n",
    "    plt.show()\n",
    "else:\n",
    "    print(f\"No filings found for form type '{user_form_type}'.\")\n"
   ]
  },
  {
   "cell_type": "code",
   "execution_count": null,
   "id": "cbf72cec-6cfb-4b49-9267-cda873094437",
   "metadata": {},
   "outputs": [],
   "source": [
    "# Calculating different statistics\n",
    "mean_value = df['Form Type'].mean()\n",
    "median_value = df['Form Type'].median()\n",
    "std_dev = df['Form Type'].std()\n",
    "min_value = df['Form Type'].min()\n",
    "max_value = df['Form Type'].max()\n",
    "\n",
    "# Printing the statistics\n",
    "print(f\"Mean (Average): {mean_value}\")\n",
    "print(f\"Median: {median_value}\")\n",
    "print(f\"Standard Deviation: {std_dev}\")\n",
    "print(f\"Minimum Value: {min_value}\")\n",
    "print(f\"Maximum Value: {max_value}\")\n",
    "\n",
    "# Getting a summary of statistics\n",
    "summary = df['Form Type'].describe()\n",
    "print(\"\\nSummary Statistics:\")\n",
    "print(summary)"
   ]
  },
  {
   "cell_type": "code",
   "execution_count": 9,
   "id": "0b0ef9ab-e616-4a1f-9fc9-00e368f7c36d",
   "metadata": {},
   "outputs": [],
   "source": [
    "df_form_list = df['Form Type'].unique().tolist()"
   ]
  },
  {
   "cell_type": "code",
   "execution_count": 10,
   "id": "a3025389-2663-415f-a882-5dbbfa52ae13",
   "metadata": {},
   "outputs": [
    {
     "name": "stdout",
     "output_type": "stream",
     "text": [
      "List saved to /Users/nareshchethala/Desktop/Project/Project_Dataframes/form_list.txt\n"
     ]
    }
   ],
   "source": [
    "# Assuming 'extracted_list' is your list from the DataFrame\n",
    "# Specify the file path where you want to save the list\n",
    "\n",
    "file_path = input('/Path/to/save/form_list.txt:')\n",
    "\n",
    "# Writing the list to a text file\n",
    "with open(file_path, 'w') as file:\n",
    "    for item in df_form_list:\n",
    "        file.write(f\"{item}\\n\")\n",
    "\n",
    "print(f\"List saved to {file_path}\")\n"
   ]
  },
  {
   "cell_type": "code",
   "execution_count": 13,
   "id": "fea2d79d-6cdb-44d7-8179-edb7fd582ae5",
   "metadata": {},
   "outputs": [
    {
     "data": {
      "text/plain": [
       "Form Type\n",
       "4            8516229\n",
       "8-K          1869862\n",
       "SC 13G/A      818930\n",
       "3             772883\n",
       "10-Q          657499\n",
       "              ...   \n",
       "NT 10-D/A          1\n",
       "PREA14C            1\n",
       "10-M               1\n",
       "40-8FC/A           1\n",
       "10-QSB/A           1\n",
       "Name: count, Length: 724, dtype: int64"
      ]
     },
     "execution_count": 13,
     "metadata": {},
     "output_type": "execute_result"
    }
   ],
   "source": [
    "import matplotlib.pyplot as plt\n",
    "dfcount = df['Form Type'].value_counts()\n",
    "dfcount"
   ]
  },
  {
   "cell_type": "code",
   "execution_count": 44,
   "id": "d7b2be0e-ac47-4dfa-bbdc-c90b1d739f65",
   "metadata": {},
   "outputs": [
    {
     "data": {
      "image/png": "[encoded data removed]",
      "text/plain": [
       "<Figure size 640x480 with 1 Axes>"
      ]
     },
     "metadata": {},
     "output_type": "display_data"
    }
   ],
   "source": [
    "dfcount[0:20].plot(kind = 'bar', color ='blue')\n",
    "plt.title('Frequency of Items in Column_Name')\n",
    "plt.xlabel('Items')\n",
    "plt.ylabel('Frequency')\n",
    "plt.show()"
   ]
  }
 ],
 "metadata": {
  "kernelspec": {
   "display_name": "Python 3 (ipykernel)",
   "language": "python",
   "name": "python3"
  },
  "language_info": {
   "codemirror_mode": {
    "name": "ipython",
    "version": 3
   },
   "file_extension": ".py",
   "mimetype": "text/x-python",
   "name": "python",
   "nbconvert_exporter": "python",
   "pygments_lexer": "ipython3",
   "version": "3.12.3"
  }
 },
 "nbformat": 4,
 "nbformat_minor": 5
}
