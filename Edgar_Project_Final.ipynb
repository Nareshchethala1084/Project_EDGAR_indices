{
 "cells": [
  {
   "cell_type": "markdown",
   "metadata": {},
   "source": [
    "# EDGAR INDICES PROJECT"
   ]
  },
  {
   "cell_type": "markdown",
   "metadata": {},
   "source": [
    "_**EDGAR Indices project :**_\n",
    "This project entails writing Python code that efficiently processes EDGAR index files to construct a data frame, enabling users to perform basic searches and analysis.\n",
    "Our Main Aim Was To :\n",
    "1) Produce Python code that addresses a specific institutional need.\n",
    "2) Learn about an important financial data repository and its contents as well as access.\n",
    "3) Download index files (daily, quarterly) directly from the SEC's EDGAR site (https://www.sec.gov/os/accessing-edgar-data).\n",
    "4) Analyse the available data using different parameters and try to draw conclusion.\n",
    "\n",
    "**About EDGAR (*Electronic Data Gathering, Analysis and Retrival* ) :**\n",
    "\n",
    "* The EDGAR system serves as a primary platform for companies and entities required to file information with the U.S.Securities and Exchange Commission(SEC).\n",
    "\n",
    "* The system is designed to automatically collect, validate, index, accept, and forward submissions.\n",
    "\n",
    "* Entities such as public companies, mutual funds, and other investment funds use EDGAR to submit regulatory filings, such as quarterly and annual reports (10-Q, 10-K), prospectuses, and much more.\n",
    "\n",
    "* As part of its mandate, the SEC makes most of these filings available to the public through the Edgar database, which can be accessed online.\n",
    "\n",
    "* For this project, we excluded the XBRL filings. Parse index files, and create a data frame that will have all the content from index files.\n",
    "\n",
    "* Allow users query the dataframe based on Form type / CIK / Company Name to generate a list of filings for the filters the user entered. \n",
    "\n",
    "* The goal is to be able to get a certain filing or a list of filings. Display a filing with a given/chosen URL."
   ]
  },
  {
   "cell_type": "markdown",
   "metadata": {
    "id": "RWL7_LRyO8P2"
   },
   "source": [
    "# Code to download all the files which are available on the EDGAR website."
   ]
  },
  {
   "cell_type": "code",
   "execution_count": null,
   "metadata": {
    "colab": {
     "base_uri": "https://localhost:8080/",
     "height": 373
    },
    "id": "mPxI0E4VO6_D",
    "outputId": "760d74b4-2573-4fec-e2ec-5e85dd9b0a67"
   },
   "outputs": [],
   "source": [
    "import requests\n",
    "import os\n",
    "import time\n",
    "\n",
    "# Base URL for the SEC EDGAR full index\n",
    "base_url = 'https://www.sec.gov/Archives/edgar/full-index/'\n",
    "\n",
    "# Function to download the file, now includes headers parameter\n",
    "def download_file(url, path, headers):\n",
    "    with requests.get(url, headers=headers, stream=True) as r:\n",
    "        r.raise_for_status()\n",
    "        with open(path, 'wb') as f:\n",
    "            for chunk in r.iter_content(chunk_size=8192):\n",
    "                f.write(chunk)\n",
    "\n",
    "# Prompt for start and end year\n",
    "start_year = int(input(\"Enter the start year (YYYY): \"))\n",
    "end_year = int(input(\"Enter the end year (YYYY): \"))\n",
    "save_dir = input('Please Input Path to Your Directory to Download Files:')\n",
    "\n",
    "# Add your user-agent string here\n",
    "headers = {'User-Agent': 'useremail@email.com'}\n",
    "\n",
    "# Iterate over each year and quarter within the specified range\n",
    "for year in range(start_year, end_year + 1):\n",
    "    for quarter in ['QTR1', 'QTR2', 'QTR3', 'QTR4']:\n",
    "        file_url = f\"{base_url}{year}/{quarter}/company.idx\"\n",
    "        save_path = os.path.join(save_dir, f\"{year}_{quarter}_company.idx\")\n",
    "\n",
    "        print(f\"Attempting to download {file_url}...\")\n",
    "\n",
    "        # Make the download attempt\n",
    "        try:\n",
    "            download_file(file_url, save_path, headers)\n",
    "            print(f\"Successfully downloaded {file_url}\")\n",
    "        except Exception as e:\n",
    "            print(f\"Failed to download {file_url}. Error: {e}\")\n",
    "\n",
    "        # Respect the SEC's rate limiting\n",
    "        time.sleep(1)  # Sleep for 1 second to avoid hitting rate limit\n",
    "\n",
    "print(\"All requested files have been attempted to download.\")"
   ]
  },
  {
   "cell_type": "markdown",
   "metadata": {
    "id": "GiOgtG7eQ1mu"
   },
   "source": [
    "# Get the required files based on the User interest"
   ]
  },
  {
   "cell_type": "markdown",
   "metadata": {},
   "source": [
    "Here we define functions to get the company data based on the User search type i.e.,\n",
    "\n",
    "1) Time Period of Filings\n",
    "2) Company Name\n",
    "3) CIK"
   ]
  },
  {
   "cell_type": "code",
   "execution_count": null,
   "metadata": {
    "colab": {
     "base_uri": "https://localhost:8080/"
    },
    "id": "UFTBkp8qZspP",
    "outputId": "cf69d4cb-8c33-4a42-f05f-1905b9f1241d"
   },
   "outputs": [],
   "source": [
    "import pandas as pd  # Importing pandas for data manipulation\n",
    "import os  # Importing os for file and directory operations\n",
    "\n",
    "# Adjusting pandas display options for more optimized data viewing\n",
    "pd.set_option('display.max_rows', None)  # Display all rows\n",
    "pd.set_option('display.max_columns', None)  # Display all columns\n",
    "pd.set_option('display.width', None)  # Automatically adjust display width to terminal size\n",
    "pd.set_option('display.max_colwidth', None)  # Display full content of each cell\n",
    "\n",
    "# Function to load EDGAR index files from a specified year and directory\n",
    "def load_data(year, source_dir):\n",
    "    colspecs = [(0, 62), (62, 74), (74, 86), (86, 98), (98, None)]  # Column widths in fixed-width file\n",
    "    column_names = ['Company Name', 'Form Type', 'CIK', 'Date Filed', 'Filename']  # Names of columns\n",
    "    dataframe_collection = []  # List to store dataframes for each quarter\n",
    "\n",
    "    # Loop through each quarter\n",
    "    for quarter in ['QTR1', 'QTR2', 'QTR3', 'QTR4']:\n",
    "        file_name = f'{year}_{quarter}_company.idx'  # Construct filename for each quarter\n",
    "        file_path = os.path.join(source_dir, file_name)  # Create full path to the file\n",
    "\n",
    "        # Check if the file exists before trying to open it\n",
    "        if os.path.exists(file_path):\n",
    "            try:\n",
    "                # Read fixed-width file with specified columns and skip header rows using skiprows\n",
    "                temp_df = pd.read_fwf(file_path, colspecs=colspecs, skiprows=9, names=column_names)\n",
    "                dataframe_collection.append(temp_df)  # Add dataframe to the collection\n",
    "            except UnicodeDecodeError as e:\n",
    "                # Handle errors that occur if the file has encoding issues\n",
    "                print(f'Error reading {file_name}: {e}')\n",
    "                continue\n",
    "            except Exception as e:\n",
    "                # Handle other unexpected errors during file reading\n",
    "                print(f'An unexpected error occurred while reading {file_name}: {e}')\n",
    "                continue\n",
    "\n",
    "    # Check if any data was loaded successfully\n",
    "    if not dataframe_collection:\n",
    "        print(\"No data was loaded. Please check your file paths and names.\")\n",
    "        return pd.DataFrame()  # Return an empty DataFrame if no data was loaded\n",
    "\n",
    "    # Concatenate all quarterly DataFrames into one DataFrame\n",
    "    all_data_df = pd.concat(dataframe_collection, ignore_index=True)\n",
    "    all_data_df.columns = all_data_df.columns.str.strip()  # Strip any leading/trailing whitespace from column names\n",
    "    return all_data_df  # Return the concatenated DataFrame\n",
    "\n",
    "# Function to filter the DataFrame by company name or CIK\n",
    "def find_companies_or_cik(all_data_df, search_term, search_type):\n",
    "    try:\n",
    "        if search_type == 'name':\n",
    "            # Filter DataFrame by company name, ignoring case\n",
    "            matching = all_data_df[all_data_df['Company Name'].str.contains(search_term, case=False, na=False)]\n",
    "        else:  # search by 'cik'\n",
    "            # Filter DataFrame by CIK\n",
    "            matching = all_data_df[all_data_df['CIK'].astype(str) == str(search_term)]\n",
    "        # Return filtered DataFrame with duplicate entries removed\n",
    "        return matching[['Company Name', 'CIK']].drop_duplicates().reset_index(drop=True)\n",
    "    except Exception as e:\n",
    "        # Handle any errors that occur during filtering\n",
    "        print(f\"An error occurred during search: {e}\")\n",
    "        return pd.DataFrame()  # Return an empty DataFrame if an error occurs\n",
    "\n",
    "# Function to get all filings for a specific CIK in a given year\n",
    "def get_filings_for_company(all_data_df, cik, year):\n",
    "    try:\n",
    "        # Filter DataFrame for filings by the specified CIK and year\n",
    "        filings_df = all_data_df[\n",
    "            (all_data_df['CIK'] == cik) &\n",
    "            (all_data_df['Date Filed'].str.contains(str(year)))\n",
    "        ].reset_index(drop=True)\n",
    "        return filings_df  # Return the filtered DataFrame\n",
    "    except Exception as e:\n",
    "        # Handle any errors during the filtering\n",
    "        print(f\"An error occurred while fetching filings for company CIK {cik}: {e}\")\n",
    "        return pd.DataFrame()  # Return an empty DataFrame if an error occurs\n",
    "\n",
    "# Function to display filings and allow the user to select one to view its URL\n",
    "def display_and_choose_filings(filings_df):\n",
    "    try:\n",
    "        if filings_df.empty:\n",
    "            # Check if the DataFrame is empty (no filings found)\n",
    "            print(\"No filings found for this company.\")\n",
    "            return None\n",
    "\n",
    "        # Display available filings for selection\n",
    "        print(filings_df[['Form Type', 'Date Filed', 'Filename']])\n",
    "        index_to_display = int(input(\"Enter the index number of the filing to display: \"))\n",
    "        # Validate user input\n",
    "        if index_to_display >= len(filings_df):\n",
    "            print(\"Invalid index number. Please enter a valid index from the list.\")\n",
    "            return None\n",
    "\n",
    "        # Get the selected filing based on user input\n",
    "        selected_filing = filings_df.iloc[index_to_display]\n",
    "        # Construct the URL to view the filing\n",
    "        filing_url = 'https://www.sec.gov/Archives/' + selected_filing['Filename']\n",
    "        print(f\"You can view the filing at the following URL:\\n{filing_url}\")\n",
    "        return filing_url  # Return the URL\n",
    "    except ValueError:\n",
    "        # Handle invalid numeric input\n",
    "        print(\"Invalid input. Please enter a numerical index.\")\n",
    "        return None\n",
    "    except Exception as e:\n",
    "        # Handle any other errors\n",
    "        print(f\"An error occurred while selecting filings: {e}\")\n",
    "        return None\n",
    "\n",
    "if __name__ == \"__main__\":\n",
    "    try:\n",
    "        # Prompt user for the year of the filings to search\n",
    "        year = int(input(\"Enter the exact year of the filings you want to search: \"))\n",
    "        print('Your Range of Data is:', year)\n",
    "        \n",
    "        # Prompt user for the type of search (name or CIK)\n",
    "        search_type = input(\"Enter your choice of search : 'name' or 'CIK'? : \").lower()\n",
    "\n",
    "        # Get the search term from the user based on the search type\n",
    "        if search_type == 'name':\n",
    "            search_term = input(\"Enter the company name to search for: \")\n",
    "        else:\n",
    "            search_term = input(\"Enter the CIK to search for: \").lstrip('0')\n",
    "\n",
    "        # Ask user for the directory where the .idx files are stored\n",
    "        source_dir = input('Please input the directory of your .idx files : ')\n",
    "        \n",
    "        # Load data from the specified year and directory\n",
    "        user_data_df = load_data(year, source_dir)\n",
    "        if user_data_df.empty:\n",
    "            # Check if data was loaded successfully\n",
    "            print(\"Data loading failed. Please check the file paths and year input.\")\n",
    "        else:\n",
    "            print(\"Data loaded successfully. Here are the column names:\")\n",
    "            print(user_data_df.columns.tolist())\n",
    "\n",
    "            # Validate the search type\n",
    "            if search_type not in ['name', 'cik']:\n",
    "                print(\"Invalid search type entered. Please restart and enter either 'name' or 'CIK'.\")\n",
    "            else:\n",
    "                # Find matching companies or CIKs based on the search term and type\n",
    "                matching_entities = find_companies_or_cik(user_data_df, search_term, search_type)\n",
    "                if matching_entities.empty:\n",
    "                    print(f\"No matching entities found for the given {search_type}.\")\n",
    "                else:\n",
    "                    print(\"Matching companies/CIKs:\")\n",
    "                    print(matching_entities)\n",
    "\n",
    "                    # Handle filings retrieval based on the search type\n",
    "                    if search_type == 'cik':\n",
    "                        filings_df = get_filings_for_company(user_data_df, search_term, year)\n",
    "                        display_and_choose_filings(filings_df)\n",
    "                    elif search_type == 'name':\n",
    "                        # Allow user to select a company from the list\n",
    "                        company_index = int(input(\"Enter the index number of the company to display filings for: \"))\n",
    "                        if company_index not in matching_entities.index:\n",
    "                            print(\"Invalid index number. Please enter a valid index from the list.\")\n",
    "                        else:\n",
    "                            # Retrieve and display filings for the selected company\n",
    "                            selected_cik = matching_entities.at[company_index, 'CIK']\n",
    "                            filings_df = get_filings_for_company(user_data_df, selected_cik, year)\n",
    "                            display_and_choose_filings(filings_df)\n",
    "\n",
    "    except ValueError:\n",
    "        # Handle errors caused by incorrect numeric input\n",
    "        print(\"You have entered an invalid year or index number. Please restart and enter a valid number.\")\n",
    "    except Exception as e:\n",
    "        # Handle any other exceptions that may occur\n",
    "        print(f\"An unexpected error occurred: {e}\")"
   ]
  },
  {
   "cell_type": "markdown",
   "metadata": {},
   "source": [
    "# Code to Create a Dataframe and Save it as *CSV* file in Local Repository"
   ]
  },
  {
   "cell_type": "code",
   "execution_count": null,
   "metadata": {},
   "outputs": [],
   "source": [
    "import pandas as pd\n",
    "import os\n",
    "\n",
    "# Adjusting pandas display options for more optimized data viewing\n",
    "pd.set_option('display.max_rows', None)  # Display all rows\n",
    "pd.set_option('display.max_columns', None)  # Display all columns\n",
    "pd.set_option('display.width', None)  # Automatically adjust display width to terminal size\n",
    "pd.set_option('display.max_colwidth', None)  # Display full content of each cell\n",
    "\n",
    "#Load data from all EDGAR index files in the specified director\n",
    "def load_data_from_directory(source_dir):\n",
    "    colspecs = [(0, 62), (62, 74), (74, 86), (86, 98), (98, None)]\n",
    "    column_names = ['Company Name', 'Form Type', 'CIK', 'Date Filed', 'Filename']\n",
    "    dataframe_collection = []\n",
    "\n",
    "    # Iterate over each file in the directory\n",
    "    for file_name in os.listdir(source_dir):\n",
    "        if file_name.endswith('.idx'):  # Check for .idx files\n",
    "            file_path = os.path.join(source_dir, file_name)\n",
    "            try:\n",
    "                # Read fixed-width file with specified columns and skip header rows\n",
    "                temp_df = pd.read_fwf(file_path, colspecs=colspecs, skiprows=9, names=column_names)\n",
    "                dataframe_collection.append(temp_df)\n",
    "            except UnicodeDecodeError as e:\n",
    "                print(f'Error reading {file_name}: {e}')\n",
    "                continue\n",
    "            except Exception as e:\n",
    "                print(f'An unexpected error occurred while reading {file_name}: {e}')\n",
    "                continue\n",
    "\n",
    "    if not dataframe_collection:\n",
    "        print(\"No data was loaded. Please check your file paths and names.\")\n",
    "        return pd.DataFrame()\n",
    "\n",
    "    # Concatenate all DataFrames into one DataFrame\n",
    "    combined_df = pd.concat(dataframe_collection, ignore_index=True)\n",
    "    combined_df.columns = combined_df.columns.str.strip()  # Strip any leading/trailing whitespace from column names\n",
    "    return combined_df\n",
    "\n",
    "def save_to_csv(df, output_path):\n",
    "    \"\"\"Save DataFrame to a CSV file.\"\"\"\n",
    "    try:\n",
    "        df.to_csv(output_path, index=False)\n",
    "        print(f\"Data saved successfully to {output_path}\")\n",
    "    except Exception as e:\n",
    "        print(f\"Failed to save the DataFrame: {e}\")\n",
    "\n",
    "# Main execution logic\n",
    "if __name__ == \"__main__\":\n",
    "    source_directory = input('Enter/path/to/data/directory: ')  # Get directory containing the data files from user\n",
    "    csv_name = input('Enter the filename for the CSV (e.g., combined_data.csv): ')\n",
    "    output_path = os.path.join(source_directory, csv_name)  # Construct the full path to save the CSV file\n",
    "\n",
    "    # Load data from the specified directory\n",
    "    all_data_df = load_data_from_directory(source_directory)\n",
    "\n",
    "    # Save the data to a CSV file\n",
    "    if not all_data_df.empty:\n",
    "        save_to_csv(all_data_df, output_path)\n",
    "    else:\n",
    "        print(\"No data to save.\")\n"
   ]
  },
  {
   "cell_type": "markdown",
   "metadata": {},
   "source": [
    "# Data Analysis and Visualization of the EDGAR Data\n"
   ]
  },
  {
   "cell_type": "markdown",
   "metadata": {},
   "source": [
    "With the Data gathered above, we can analyse with the use of *statistical analysis* and *data visualization*.\n",
    "We can try to answer the following questions : \n",
    "1) Time series counts of filings per year/quarter/month.\n",
    "2) Is there a seasonality? For instance, are there more filings in a particular month?\n",
    "3) Top N filers / Top N filing types Summary statistics of filings over quarters/ months: min/max/mean/median/sd of filings.\n",
    "4) Trend of company filings over the years."
   ]
  },
  {
   "cell_type": "markdown",
   "metadata": {},
   "source": [
    "If Your Environment doesn't have the required libraries install, then run the first cell to install the required packages."
   ]
  },
  {
   "cell_type": "code",
   "execution_count": null,
   "metadata": {},
   "outputs": [],
   "source": [
    "#Importing required Libraries\n",
    "import pandas as pd\n",
    "import matplotlib.pyplot as plt\n",
    "from datetime import timedelta"
   ]
  },
  {
   "cell_type": "code",
   "execution_count": null,
   "metadata": {},
   "outputs": [],
   "source": [
    "#Creating the dataframe from the local repository\n",
    "file_path = input('Path/to/file.csv:')\n",
    "df = pd.read_csv(file_path)\n",
    "df.head()"
   ]
  },
  {
   "cell_type": "markdown",
   "metadata": {},
   "source": [
    "# Data Modelling"
   ]
  },
  {
   "cell_type": "code",
   "execution_count": null,
   "metadata": {},
   "outputs": [],
   "source": [
    "#Data Cleaning to remove filings with no dates\n",
    "# Remove rows where 'Date Filed' contains '------------'\n",
    "df = df[df['Date Filed'] != '------------']\n",
    "\n",
    "# Printing the data with valid Date column\n",
    "print(df)"
   ]
  },
  {
   "cell_type": "code",
   "execution_count": null,
   "metadata": {},
   "outputs": [],
   "source": [
    "# Convert 'Date Filed' to datetime if it's not already\n",
    "df['Date Filed'] = pd.to_datetime(df['Date Filed'])\n",
    "\n",
    "# Extract month and year from 'Date Filed'\n",
    "df['Month'] = df['Date Filed'].dt.month\n",
    "df['Year'] = df['Date Filed'].dt.year\n",
    "df.head()"
   ]
  },
  {
   "cell_type": "code",
   "execution_count": null,
   "metadata": {},
   "outputs": [],
   "source": [
    "#Creating a dictionary for month names and mapping them to create a new column\n",
    "month_names = {1:'Jan',2:'Feb',3:'Mar',4:'Apr',5:'May',6:'Jun',7:'Jul',8:'Aug',9:'Sept',10:'Oct',11:'Nov',12:'Dec'}\n",
    "df['Month_Name'] = df['Month'].map(month_names)\n",
    "df.head()"
   ]
  },
  {
   "cell_type": "markdown",
   "metadata": {},
   "source": [
    "# Analytics"
   ]
  },
  {
   "cell_type": "code",
   "execution_count": null,
   "metadata": {},
   "outputs": [],
   "source": [
    "#getting summary of each column\n",
    "df['Form Type'].describe()"
   ]
  },
  {
   "cell_type": "code",
   "execution_count": null,
   "metadata": {},
   "outputs": [],
   "source": [
    "# Convert the 'Month_Name' column to a categorical type with a defined order\n",
    "df['Month_Name'] = pd.Categorical(df['Month_Name'], categories=month_names.values(), ordered=True)\n",
    "\n",
    "# Count filings per month\n",
    "monthly_filings = df.groupby('Month_Name', observed=True).size()\n",
    "\n",
    "# Sort counts in ascending order(optional, you can remove this, if you want the months to be in sequence)\n",
    "#monthly_filings_sorted = monthly_filings.sort_values()\n",
    "\n",
    "# Plotting the results\n",
    "plt.figure(figsize=(14, 8))\n",
    "monthly_filings.plot(kind='bar')\n",
    "plt.title('Number of Filings Per Month', fontsize = 18)\n",
    "plt.xlabel('Month', fontsize = 16)\n",
    "plt.ylabel('Number of Filings', fontsize = 16)\n",
    "plt.xticks(rotation=0, fontsize = 12)\n",
    "plt.yticks(rotation=0, fontsize = 12)\n",
    "plt.show()"
   ]
  },
  {
   "cell_type": "code",
   "execution_count": null,
   "metadata": {},
   "outputs": [],
   "source": [
    "# User input for form type\n",
    "user_form_type = input(\"Enter the form type you are interested in (e.g., 10-K, 10-Q): \")\n",
    "\n",
    "# Filter DataFrame for the specific form type\n",
    "filtered_df = df[df['Form Type'] == user_form_type]\n",
    "\n",
    "if not filtered_df.empty:\n",
    "    # Function to find the month with the most filings\n",
    "    most_frequent_month = filtered_df['Month_Name'].value_counts().idxmax() \n",
    "    #idmax is used to get the first one in the list based on index i.e., Month_Name\n",
    "\n",
    "    print(f\"The month with the most filings for {user_form_type} is: {most_frequent_month}\")\n",
    "else:\n",
    "    print(f\"No filings found for form type '{user_form_type}'.\")"
   ]
  },
  {
   "cell_type": "code",
   "execution_count": null,
   "metadata": {},
   "outputs": [],
   "source": [
    "# User input for form type\n",
    "user_form_type = input(\"Enter the form type you are interested in (e.g., 10-K, 10-Q): \")\n",
    "\n",
    "# Filter DataFrame for the specific form type\n",
    "filtered_df = df[df['Form Type'] == user_form_type]\n",
    "\n",
    "if not filtered_df.empty:\n",
    "    # Count the number of filings per month\n",
    "    filings_per_month = filtered_df.groupby('Month_Name', observed = True).size()\n",
    "\n",
    "    # Plotting the results\n",
    "    plt.figure(figsize=(12, 6))\n",
    "    filings_per_month.plot(kind='bar', color='dodgerblue', figsize = (14,8))\n",
    "    plt.title(f'Number of Filings Per Month for Form - {user_form_type}',fontsize = 18)\n",
    "    plt.xlabel('Month_Name',fontsize = 16)\n",
    "    plt.ylabel('Number of Filings',fontsize =16)\n",
    "    plt.xticks(rotation=0, fontsize = 12)\n",
    "    plt.yticks(rotation = 45, fontsize = 12)\n",
    "    plt.show()\n",
    "else:\n",
    "    print(f\"No filings found for form type '{user_form_type}'.\")\n"
   ]
  },
  {
   "cell_type": "code",
   "execution_count": null,
   "metadata": {},
   "outputs": [],
   "source": [
    "# Requires extra GPU to run\n",
    "# Calculating different statistics\n",
    "mean_value = df['Form Type'].mean()\n",
    "median_value = df['Form Type'].median()\n",
    "std_dev = df['Form Type'].std()\n",
    "min_value = df['Form Type'].min()\n",
    "max_value = df['Form Type'].max()\n",
    "\n",
    "# Printing the statistics\n",
    "print(f\"Mean (Average): {mean_value}\")\n",
    "print(f\"Median: {median_value}\")\n",
    "print(f\"Standard Deviation: {std_dev}\")\n",
    "print(f\"Minimum Value: {min_value}\")\n",
    "print(f\"Maximum Value: {max_value}\")\n",
    "\n",
    "# Getting a summary of statistics\n",
    "summary = df['Form Type'].describe()\n",
    "print(\"\\nSummary Statistics:\")\n",
    "print(summary)"
   ]
  },
  {
   "cell_type": "code",
   "execution_count": null,
   "metadata": {},
   "outputs": [],
   "source": [
    "#Optional, run this if you want to get the Form Types into a List\n",
    "#Creating a list of Form Type\n",
    "df_form_list = df['Form Type'].unique().tolist()\n",
    "\n",
    "#Specify the file path where you want to save the list\n",
    "file_path = input('/Path/to/save/form_list.txt:')\n",
    "\n",
    "#Writing the list to a text file and saving the file as per the user path\n",
    "with open(file_path, 'w') as file:\n",
    "    for item in df_form_list:\n",
    "        file.write(f\"{item}\\n\")\n",
    "\n",
    "print(f\"List saved to {file_path}\")\n"
   ]
  },
  {
   "cell_type": "code",
   "execution_count": null,
   "metadata": {},
   "outputs": [],
   "source": [
    "#Getting the unique count of the Form Types\n",
    "dfcount = df['Form Type'].value_counts()\n",
    "dfcount"
   ]
  },
  {
   "cell_type": "code",
   "execution_count": null,
   "metadata": {},
   "outputs": [],
   "source": [
    "#Plotting the top 20 Form Types with most filings\n",
    "dfcount[0:20].plot(kind = 'bar', color ='darkblue', figsize =(14,8))\n",
    "plt.title('Total Number Of Filings Over The Years', fontsize = 18)\n",
    "plt.xlabel('Form Type', fontsize = 16)\n",
    "plt.ylabel('Number Of Filings', fontsize = 16)\n",
    "plt.xticks(rotation=45,  fontsize = 12)\n",
    "plt.yticks(rotation=0, fontsize = 12)\n",
    "plt.show()"
   ]
  },
  {
   "cell_type": "code",
   "execution_count": null,
   "metadata": {},
   "outputs": [],
   "source": [
    "#To get the latest Date in the data\n",
    "latest_date = df['Date Filed'].max()"
   ]
  },
  {
   "cell_type": "code",
   "execution_count": null,
   "metadata": {},
   "outputs": [],
   "source": [
    "# Calculating last 10 years based on the latest_date\n",
    "ten_years_ago = latest_date - pd.DateOffset(years=10)"
   ]
  },
  {
   "cell_type": "code",
   "execution_count": null,
   "metadata": {},
   "outputs": [],
   "source": [
    "# Filtering data for the last 10 years\n",
    "df_last_10_years = df[df['Date Filed'] >= ten_years_ago]"
   ]
  },
  {
   "cell_type": "code",
   "execution_count": null,
   "metadata": {},
   "outputs": [],
   "source": [
    "# Calculate frequency of each filing type and get top 10\n",
    "top_filings = df_last_10_years['Form Type'].value_counts().nlargest(10)\n",
    "top_filing_types = top_filings.index.tolist()\n",
    "\n",
    "# Filter the DataFrame to include only top 10 filing types from the last 10 years\n",
    "df_top10_last10 = df_last_10_years[df_last_10_years['Form Type'].isin(top_filing_types)]\n",
    "\n",
    "# Group by Form Type and resample by year for trend analysis\n",
    "trend_analysis = df_top10_last10.groupby('Form Type').resample('YE', on='Date Filed').count()\n",
    "\n",
    "# Plotting the annual trend analysis as a stacked bar chart\n",
    "trend_analysis['CIK'].unstack().plot(kind='bar', figsize=(14, 7), stacked=True)\n",
    "plt.title('Annual Filing Trends by Form Type (Top 10 Over Last 10 Years)',fontsize=18)\n",
    "plt.ylabel('Number of Filings', fontsize=16)\n",
    "plt.xlabel('Form Type', fontsize=16)\n",
    "plt.xticks(rotation=45, fontsize = 12)\n",
    "plt.yticks(rotation=0, fontsize = 12)\n",
    "plt.show()"
   ]
  },
  {
   "cell_type": "code",
   "execution_count": null,
   "metadata": {},
   "outputs": [],
   "source": [
    "# Seasonality Analysis for top 10 filings over the last 10 years\n",
    "df_top10_last10.loc[:, 'Month'] = df_top10_last10['Date Filed'].dt.month\n",
    "seasonality_analysis = df_top10_last10.groupby(['Month', 'Form Type']).size().unstack()\n",
    "\n",
    "# Plot the monthly trends for the top 10 filings as a stacked bar chart\n",
    "seasonality_analysis.plot(kind='bar', figsize=(14, 7), width=0.8, stacked=True)\n",
    "plt.title('Monthly Filing Trends by Form Type (Top 10 Over Last 10 Years)', fontsize = 18)\n",
    "plt.ylabel('Number of Filings', fontsize = 16)\n",
    "plt.xlabel('Month', fontsize = 16)\n",
    "plt.xticks(ticks=range(0, 12), labels=['Jan', 'Feb', 'Mar', 'Apr', 'May', 'Jun', 'Jul', 'Aug', 'Sep', 'Oct', 'Nov', 'Dec'], rotation=0, fontsize =12)\n",
    "plt.yticks(fontsize =12)\n",
    "plt.show()"
   ]
  },
  {
   "cell_type": "code",
   "execution_count": null,
   "metadata": {},
   "outputs": [],
   "source": [
    "# Count filings per month\n",
    "yearly_filings = df.groupby('Year').size()\n",
    "\n",
    "# Sort counts in ascending order(optional, you can remove this, if you want the months to be in sequence)\n",
    "#monthly_filings_sorted = monthly_filings.sort_values()\n",
    "\n",
    "# Plotting the results\n",
    "yearly_filings.plot(kind='bar',color = 'skyblue', figsize =(20,10))\n",
    "plt.title('Number of Filings Per Year', fontsize = 20)\n",
    "plt.xlabel('Year', fontsize = 18)\n",
    "plt.ylabel('Number of Filings', fontsize = 18)\n",
    "plt.xticks(rotation=90, fontsize = 16)\n",
    "plt.yticks(rotation=0, fontsize = 16)\n",
    "plt.show()"
   ]
  },
  {
   "cell_type": "code",
   "execution_count": null,
   "metadata": {},
   "outputs": [],
   "source": []
  }
 ],
 "metadata": {
  "colab": {
   "provenance": []
  },
  "kernelspec": {
   "display_name": "Python 3 (ipykernel)",
   "language": "python",
   "name": "python3"
  },
  "language_info": {
   "codemirror_mode": {
    "name": "ipython",
    "version": 3
   },
   "file_extension": ".py",
   "mimetype": "text/x-python",
   "name": "python",
   "nbconvert_exporter": "python",
   "pygments_lexer": "ipython3",
   "version": "3.12.3"
  }
 },
 "nbformat": 4,
 "nbformat_minor": 4
}
